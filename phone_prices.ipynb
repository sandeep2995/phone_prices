{
 "cells": [
  {
   "cell_type": "markdown",
   "id": "9c4ee85c",
   "metadata": {},
   "source": [
    "# Exploratory Analysis of Phone Prices"
   ]
  },
  {
   "cell_type": "code",
   "execution_count": 25,
   "id": "12a9fc9e",
   "metadata": {},
   "outputs": [],
   "source": [
    "# import relevant libraries\n",
    "import pandas as pd"
   ]
  },
  {
   "cell_type": "code",
   "execution_count": 26,
   "id": "f8bac433-48bc-43ef-95a6-bda8ca024f85",
   "metadata": {},
   "outputs": [
    {
     "name": "stdout",
     "output_type": "stream",
     "text": [
      "mv: cannot stat '/tmp/kaggle.json': No such file or directory\n"
     ]
    }
   ],
   "source": [
    "# execute the following statement after downloading the kaggle.json file as per the instructions at https://saturncloud.io/blog/how-to-import-kaggle-datasets-into-jupyter-notebook/\n",
    "!mv /tmp/kaggle.json $HOME/.kaggle/"
   ]
  },
  {
   "cell_type": "code",
   "execution_count": 27,
   "id": "4960f87d-76d0-4e20-b761-b3de36ffc549",
   "metadata": {},
   "outputs": [],
   "source": [
    "import kaggle\n",
    "# ignore the warnings if any, if you are running it on the personal computer"
   ]
  },
  {
   "cell_type": "code",
   "execution_count": 28,
   "id": "df212955-8519-4801-a5a8-0c31dc35f7c7",
   "metadata": {},
   "outputs": [],
   "source": [
    "DATA_DIR = './data/'"
   ]
  },
  {
   "cell_type": "code",
   "execution_count": 29,
   "id": "5dc5b5fb-d2f9-42a1-afc4-9357108ba9c8",
   "metadata": {},
   "outputs": [],
   "source": [
    "dataset_name = 'berkayeserr/phone-prices'\n",
    "kaggle.api.dataset_download_files(dataset_name, path=DATA_DIR, unzip=True)"
   ]
  },
  {
   "cell_type": "code",
   "execution_count": 31,
   "id": "154177ca",
   "metadata": {},
   "outputs": [
    {
     "data": {
      "text/plain": [
       "<bound method NDFrame.head of             phone_name   brand           os  inches resolution  battery  \\\n",
       "0         Y6II Compact  Huawei  Android 5.1    5.00   720x1280     2200   \n",
       "1             K20 plus      LG  Android 7.0    5.30   720x1280     2700   \n",
       "2       P8 Lite (2017)  Huawei  Android 7.0    5.20  1080x1920     3000   \n",
       "3         Redmi Note 4  Xiaomi  Android 6.0    5.50  1080x1920     4100   \n",
       "4                  P10  Huawei  Android 7.0    5.10  1080x1920     3200   \n",
       "...                ...     ...          ...     ...        ...      ...   \n",
       "1507         vivo Y77t    Vivo   Android 13    6.64  1080x2388     5000   \n",
       "1508               11x  Realme   Android 13    6.72  1080x2400     5000   \n",
       "1509               GT5  Realme   Android 13    6.74  1240x2772     5240   \n",
       "1510          GT5 240W  Realme   Android 13    6.74  1240x2772     4600   \n",
       "1511  vivo iQOO Z7 Pro    Vivo   Android 13    6.78  1080x2400     4600   \n",
       "\n",
       "     battery_type  ram(GB) announcement_date  weight(g)  ...  video_1080p  \\\n",
       "0           Li-Po        2        2016-09-01      140.0  ...        False   \n",
       "1          Li-Ion        2        2016-12-01      140.0  ...         True   \n",
       "2          Li-Ion        4        2017-01-01      147.0  ...         True   \n",
       "3           Li-Po        4        2017-01-01      165.0  ...         True   \n",
       "4          Li-Ion        4        2017-02-01      145.0  ...         True   \n",
       "...           ...      ...               ...        ...  ...          ...   \n",
       "1507        Li-Po        8        2023-08-18      190.0  ...         True   \n",
       "1508        Li-Po        8        2023-08-23      190.0  ...         True   \n",
       "1509        Li-Po       16        2023-08-28      205.0  ...         True   \n",
       "1510        Li-Po       24        2023-08-28      205.0  ...         True   \n",
       "1511        Li-Po        8        2023-08-31      175.0  ...         True   \n",
       "\n",
       "      video_4K  video_8K  video_30fps  video_60fps  video_120fps  \\\n",
       "0        False     False         True        False         False   \n",
       "1        False     False         True        False         False   \n",
       "2        False     False         True        False         False   \n",
       "3        False     False         True        False          True   \n",
       "4         True     False         True         True         False   \n",
       "...        ...       ...          ...          ...           ...   \n",
       "1507     False     False         True        False         False   \n",
       "1508     False     False         True        False         False   \n",
       "1509      True     False        False         True         False   \n",
       "1510      True     False        False         True         False   \n",
       "1511      True     False         True        False         False   \n",
       "\n",
       "      video_240fps  video_480fps  video_960fps  price(USD)  \n",
       "0            False         False         False     120.000  \n",
       "1            False         False         False     100.000  \n",
       "2            False         False         False     420.000  \n",
       "3            False         False         False     150.000  \n",
       "4            False         False         False     420.000  \n",
       "...            ...           ...           ...         ...  \n",
       "1507         False         False         False     170.000  \n",
       "1508         False         False         False     182.880  \n",
       "1509         False         False         False     380.000  \n",
       "1510         False         False         False     470.000  \n",
       "1511         False         False         False     287.988  \n",
       "\n",
       "[1512 rows x 22 columns]>"
      ]
     },
     "execution_count": 31,
     "metadata": {},
     "output_type": "execute_result"
    }
   ],
   "source": [
    "df = pd.read_csv(DATA_DIR+'cleaned_all_phones.csv')\n",
    "df.head"
   ]
  },
  {
   "cell_type": "code",
   "execution_count": null,
   "id": "78f5ccb7",
   "metadata": {},
   "outputs": [],
   "source": []
  },
  {
   "cell_type": "code",
   "execution_count": null,
   "id": "361424b2",
   "metadata": {},
   "outputs": [],
   "source": []
  }
 ],
 "metadata": {
  "kernelspec": {
   "display_name": "Python 3 (ipykernel)",
   "language": "python",
   "name": "python3"
  },
  "language_info": {
   "codemirror_mode": {
    "name": "ipython",
    "version": 3
   },
   "file_extension": ".py",
   "mimetype": "text/x-python",
   "name": "python",
   "nbconvert_exporter": "python",
   "pygments_lexer": "ipython3",
   "version": "3.9.18"
  }
 },
 "nbformat": 4,
 "nbformat_minor": 5
}
